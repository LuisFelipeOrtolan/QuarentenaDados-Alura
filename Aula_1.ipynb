{
  "nbformat": 4,
  "nbformat_minor": 0,
  "metadata": {
    "colab": {
      "name": "Aula 1",
      "provenance": [],
      "authorship_tag": "ABX9TyO49YJJkv70bT02XGG7PrD5",
      "include_colab_link": true
    },
    "kernelspec": {
      "name": "python3",
      "display_name": "Python 3"
    }
  },
  "cells": [
    {
      "cell_type": "markdown",
      "metadata": {
        "id": "view-in-github",
        "colab_type": "text"
      },
      "source": [
        "<a href=\"https://colab.research.google.com/github/LuisFelipeOrtolan/QuarentenaDados-Alura/blob/master/Aula_1.ipynb\" target=\"_parent\"><img src=\"https://colab.research.google.com/assets/colab-badge.svg\" alt=\"Open In Colab\"/></a>"
      ]
    },
    {
      "cell_type": "markdown",
      "metadata": {
        "id": "4wUYQGnEQwf8",
        "colab_type": "text"
      },
      "source": [
        "Importando as Bibliotecas\n"
      ]
    },
    {
      "cell_type": "code",
      "metadata": {
        "id": "hyerhOZlJMNF",
        "colab_type": "code",
        "colab": {}
      },
      "source": [
        "import pandas as pd\n",
        "import numpy as np\n",
        "import matplotlib as plt"
      ],
      "execution_count": 0,
      "outputs": []
    },
    {
      "cell_type": "markdown",
      "metadata": {
        "id": "BG26lesjQ2yO",
        "colab_type": "text"
      },
      "source": [
        "Obtendo a base de dados dos filmes do MovieLens\n"
      ]
    },
    {
      "cell_type": "code",
      "metadata": {
        "id": "lw5vSvh2OuYw",
        "colab_type": "code",
        "colab": {}
      },
      "source": [
        "filmes = pd.read_csv(\"https://raw.githubusercontent.com/alura-cursos/introducao-a-data-science/master/aula0/ml-latest-small/movies.csv\")\n",
        "filmes.columns = [\"filmeID\",\"titulo\",\"generos\"]\n"
      ],
      "execution_count": 0,
      "outputs": []
    },
    {
      "cell_type": "markdown",
      "metadata": {
        "id": "hAXvxVYFQ9Ko",
        "colab_type": "text"
      },
      "source": [
        "Obtendo a base de dados de avaliações do MovieLens\n"
      ]
    },
    {
      "cell_type": "code",
      "metadata": {
        "id": "Cbbglq2hO-4q",
        "colab_type": "code",
        "colab": {}
      },
      "source": [
        "avaliacoes = pd.read_csv(\"https://github.com/alura-cursos/introducao-a-data-science/blob/master/aula0/ml-latest-small/ratings.csv?raw=true\")\n",
        "avaliacoes.columns = [\"usuarioID\",\"filmeID\", \"nota\", \"momento\"]"
      ],
      "execution_count": 0,
      "outputs": []
    },
    {
      "cell_type": "markdown",
      "metadata": {
        "id": "PxnGcVCsRHOl",
        "colab_type": "text"
      },
      "source": [
        "Obtendo a média da avaliação de cada filme"
      ]
    },
    {
      "cell_type": "code",
      "metadata": {
        "id": "mBsA8DypQNEA",
        "colab_type": "code",
        "colab": {}
      },
      "source": [
        "notas_medias_por_filme = avaliacoes.groupby(\"filmeID\")[\"nota\"].mean()"
      ],
      "execution_count": 0,
      "outputs": []
    },
    {
      "cell_type": "markdown",
      "metadata": {
        "id": "MiQfttlJRP7L",
        "colab_type": "text"
      },
      "source": [
        "Juntando os filmes com a média de avaliação de cada filme!"
      ]
    },
    {
      "cell_type": "code",
      "metadata": {
        "id": "lYC56w2NQZOq",
        "colab_type": "code",
        "colab": {}
      },
      "source": [
        "filmes_com_media = filmes.join(notas_medias_por_filme, on=\"filmeID\")\n",
        "filmes_com_media.rename(columns = {\"nota\":\"nota_media\"}, inplace = True)\n",
        "filmes_com_media = filmes_com_media.round({'nota_media':2})"
      ],
      "execution_count": 0,
      "outputs": []
    },
    {
      "cell_type": "markdown",
      "metadata": {
        "id": "IArEMopARay5",
        "colab_type": "text"
      },
      "source": [
        "Determinando os filmes que não possuem avaliação"
      ]
    },
    {
      "cell_type": "code",
      "metadata": {
        "id": "DNVwm3skRfTP",
        "colab_type": "code",
        "outputId": "845051b6-c94c-4a0a-fd0d-1faabdb1d999",
        "colab": {
          "base_uri": "https://localhost:8080/",
          "height": 607
        }
      },
      "source": [
        "filmes_sem_nota = filmes_com_media[filmes_com_media.isnull().any(axis=1)]\n",
        "filmes_sem_nota"
      ],
      "execution_count": 0,
      "outputs": [
        {
          "output_type": "execute_result",
          "data": {
            "text/html": [
              "<div>\n",
              "<style scoped>\n",
              "    .dataframe tbody tr th:only-of-type {\n",
              "        vertical-align: middle;\n",
              "    }\n",
              "\n",
              "    .dataframe tbody tr th {\n",
              "        vertical-align: top;\n",
              "    }\n",
              "\n",
              "    .dataframe thead th {\n",
              "        text-align: right;\n",
              "    }\n",
              "</style>\n",
              "<table border=\"1\" class=\"dataframe\">\n",
              "  <thead>\n",
              "    <tr style=\"text-align: right;\">\n",
              "      <th></th>\n",
              "      <th>filmeID</th>\n",
              "      <th>titulo</th>\n",
              "      <th>generos</th>\n",
              "      <th>nota_media</th>\n",
              "    </tr>\n",
              "  </thead>\n",
              "  <tbody>\n",
              "    <tr>\n",
              "      <th>816</th>\n",
              "      <td>1076</td>\n",
              "      <td>Innocents, The (1961)</td>\n",
              "      <td>Drama|Horror|Thriller</td>\n",
              "      <td>NaN</td>\n",
              "    </tr>\n",
              "    <tr>\n",
              "      <th>2211</th>\n",
              "      <td>2939</td>\n",
              "      <td>Niagara (1953)</td>\n",
              "      <td>Drama|Thriller</td>\n",
              "      <td>NaN</td>\n",
              "    </tr>\n",
              "    <tr>\n",
              "      <th>2499</th>\n",
              "      <td>3338</td>\n",
              "      <td>For All Mankind (1989)</td>\n",
              "      <td>Documentary</td>\n",
              "      <td>NaN</td>\n",
              "    </tr>\n",
              "    <tr>\n",
              "      <th>2587</th>\n",
              "      <td>3456</td>\n",
              "      <td>Color of Paradise, The (Rang-e khoda) (1999)</td>\n",
              "      <td>Drama</td>\n",
              "      <td>NaN</td>\n",
              "    </tr>\n",
              "    <tr>\n",
              "      <th>3118</th>\n",
              "      <td>4194</td>\n",
              "      <td>I Know Where I'm Going! (1945)</td>\n",
              "      <td>Drama|Romance|War</td>\n",
              "      <td>NaN</td>\n",
              "    </tr>\n",
              "    <tr>\n",
              "      <th>4037</th>\n",
              "      <td>5721</td>\n",
              "      <td>Chosen, The (1981)</td>\n",
              "      <td>Drama</td>\n",
              "      <td>NaN</td>\n",
              "    </tr>\n",
              "    <tr>\n",
              "      <th>4506</th>\n",
              "      <td>6668</td>\n",
              "      <td>Road Home, The (Wo de fu qin mu qin) (1999)</td>\n",
              "      <td>Drama|Romance</td>\n",
              "      <td>NaN</td>\n",
              "    </tr>\n",
              "    <tr>\n",
              "      <th>4598</th>\n",
              "      <td>6849</td>\n",
              "      <td>Scrooge (1970)</td>\n",
              "      <td>Drama|Fantasy|Musical</td>\n",
              "      <td>NaN</td>\n",
              "    </tr>\n",
              "    <tr>\n",
              "      <th>4704</th>\n",
              "      <td>7020</td>\n",
              "      <td>Proof (1991)</td>\n",
              "      <td>Comedy|Drama|Romance</td>\n",
              "      <td>NaN</td>\n",
              "    </tr>\n",
              "    <tr>\n",
              "      <th>5020</th>\n",
              "      <td>7792</td>\n",
              "      <td>Parallax View, The (1974)</td>\n",
              "      <td>Thriller</td>\n",
              "      <td>NaN</td>\n",
              "    </tr>\n",
              "    <tr>\n",
              "      <th>5293</th>\n",
              "      <td>8765</td>\n",
              "      <td>This Gun for Hire (1942)</td>\n",
              "      <td>Crime|Film-Noir|Thriller</td>\n",
              "      <td>NaN</td>\n",
              "    </tr>\n",
              "    <tr>\n",
              "      <th>5421</th>\n",
              "      <td>25855</td>\n",
              "      <td>Roaring Twenties, The (1939)</td>\n",
              "      <td>Crime|Drama|Thriller</td>\n",
              "      <td>NaN</td>\n",
              "    </tr>\n",
              "    <tr>\n",
              "      <th>5452</th>\n",
              "      <td>26085</td>\n",
              "      <td>Mutiny on the Bounty (1962)</td>\n",
              "      <td>Adventure|Drama|Romance</td>\n",
              "      <td>NaN</td>\n",
              "    </tr>\n",
              "    <tr>\n",
              "      <th>5749</th>\n",
              "      <td>30892</td>\n",
              "      <td>In the Realms of the Unreal (2004)</td>\n",
              "      <td>Animation|Documentary</td>\n",
              "      <td>NaN</td>\n",
              "    </tr>\n",
              "    <tr>\n",
              "      <th>5824</th>\n",
              "      <td>32160</td>\n",
              "      <td>Twentieth Century (1934)</td>\n",
              "      <td>Comedy</td>\n",
              "      <td>NaN</td>\n",
              "    </tr>\n",
              "    <tr>\n",
              "      <th>5837</th>\n",
              "      <td>32371</td>\n",
              "      <td>Call Northside 777 (1948)</td>\n",
              "      <td>Crime|Drama|Film-Noir</td>\n",
              "      <td>NaN</td>\n",
              "    </tr>\n",
              "    <tr>\n",
              "      <th>5957</th>\n",
              "      <td>34482</td>\n",
              "      <td>Browning Version, The (1951)</td>\n",
              "      <td>Drama</td>\n",
              "      <td>NaN</td>\n",
              "    </tr>\n",
              "    <tr>\n",
              "      <th>7565</th>\n",
              "      <td>85565</td>\n",
              "      <td>Chalet Girl (2011)</td>\n",
              "      <td>Comedy|Romance</td>\n",
              "      <td>NaN</td>\n",
              "    </tr>\n",
              "  </tbody>\n",
              "</table>\n",
              "</div>"
            ],
            "text/plain": [
              "      filmeID  ... nota_media\n",
              "816      1076  ...        NaN\n",
              "2211     2939  ...        NaN\n",
              "2499     3338  ...        NaN\n",
              "2587     3456  ...        NaN\n",
              "3118     4194  ...        NaN\n",
              "4037     5721  ...        NaN\n",
              "4506     6668  ...        NaN\n",
              "4598     6849  ...        NaN\n",
              "4704     7020  ...        NaN\n",
              "5020     7792  ...        NaN\n",
              "5293     8765  ...        NaN\n",
              "5421    25855  ...        NaN\n",
              "5452    26085  ...        NaN\n",
              "5749    30892  ...        NaN\n",
              "5824    32160  ...        NaN\n",
              "5837    32371  ...        NaN\n",
              "5957    34482  ...        NaN\n",
              "7565    85565  ...        NaN\n",
              "\n",
              "[18 rows x 4 columns]"
            ]
          },
          "metadata": {
            "tags": []
          },
          "execution_count": 54
        }
      ]
    },
    {
      "cell_type": "markdown",
      "metadata": {
        "id": "N64A7X8qX0Dm",
        "colab_type": "text"
      },
      "source": [
        "Contando quantas avaliações cada filme teve"
      ]
    },
    {
      "cell_type": "code",
      "metadata": {
        "id": "La9vXuiAX3_1",
        "colab_type": "code",
        "outputId": "2208fb5c-fa1d-4e6c-c075-7f65f1d17244",
        "colab": {
          "base_uri": "https://localhost:8080/",
          "height": 204
        }
      },
      "source": [
        "votos_por_filme = avaliacoes.groupby(\"filmeID\")[\"nota\"].count()\n",
        "votos_por_filme = votos_por_filme.rename(\"votos_por_filme\")\n",
        "\n",
        "filmes_com_media_e_votos = filmes_com_media.join(votos_por_filme, on=\"filmeID\")\n",
        "filmes_com_media_e_votos.head()"
      ],
      "execution_count": 0,
      "outputs": [
        {
          "output_type": "execute_result",
          "data": {
            "text/html": [
              "<div>\n",
              "<style scoped>\n",
              "    .dataframe tbody tr th:only-of-type {\n",
              "        vertical-align: middle;\n",
              "    }\n",
              "\n",
              "    .dataframe tbody tr th {\n",
              "        vertical-align: top;\n",
              "    }\n",
              "\n",
              "    .dataframe thead th {\n",
              "        text-align: right;\n",
              "    }\n",
              "</style>\n",
              "<table border=\"1\" class=\"dataframe\">\n",
              "  <thead>\n",
              "    <tr style=\"text-align: right;\">\n",
              "      <th></th>\n",
              "      <th>filmeID</th>\n",
              "      <th>titulo</th>\n",
              "      <th>generos</th>\n",
              "      <th>nota_media</th>\n",
              "      <th>votos_por_filme</th>\n",
              "    </tr>\n",
              "  </thead>\n",
              "  <tbody>\n",
              "    <tr>\n",
              "      <th>0</th>\n",
              "      <td>1</td>\n",
              "      <td>Toy Story (1995)</td>\n",
              "      <td>Adventure|Animation|Children|Comedy|Fantasy</td>\n",
              "      <td>3.92</td>\n",
              "      <td>215.0</td>\n",
              "    </tr>\n",
              "    <tr>\n",
              "      <th>1</th>\n",
              "      <td>2</td>\n",
              "      <td>Jumanji (1995)</td>\n",
              "      <td>Adventure|Children|Fantasy</td>\n",
              "      <td>3.43</td>\n",
              "      <td>110.0</td>\n",
              "    </tr>\n",
              "    <tr>\n",
              "      <th>2</th>\n",
              "      <td>3</td>\n",
              "      <td>Grumpier Old Men (1995)</td>\n",
              "      <td>Comedy|Romance</td>\n",
              "      <td>3.26</td>\n",
              "      <td>52.0</td>\n",
              "    </tr>\n",
              "    <tr>\n",
              "      <th>3</th>\n",
              "      <td>4</td>\n",
              "      <td>Waiting to Exhale (1995)</td>\n",
              "      <td>Comedy|Drama|Romance</td>\n",
              "      <td>2.36</td>\n",
              "      <td>7.0</td>\n",
              "    </tr>\n",
              "    <tr>\n",
              "      <th>4</th>\n",
              "      <td>5</td>\n",
              "      <td>Father of the Bride Part II (1995)</td>\n",
              "      <td>Comedy</td>\n",
              "      <td>3.07</td>\n",
              "      <td>49.0</td>\n",
              "    </tr>\n",
              "  </tbody>\n",
              "</table>\n",
              "</div>"
            ],
            "text/plain": [
              "   filmeID                              titulo  ... nota_media  votos_por_filme\n",
              "0        1                    Toy Story (1995)  ...       3.92            215.0\n",
              "1        2                      Jumanji (1995)  ...       3.43            110.0\n",
              "2        3             Grumpier Old Men (1995)  ...       3.26             52.0\n",
              "3        4            Waiting to Exhale (1995)  ...       2.36              7.0\n",
              "4        5  Father of the Bride Part II (1995)  ...       3.07             49.0\n",
              "\n",
              "[5 rows x 5 columns]"
            ]
          },
          "metadata": {
            "tags": []
          },
          "execution_count": 94
        }
      ]
    },
    {
      "cell_type": "markdown",
      "metadata": {
        "id": "eM1QGbolee38",
        "colab_type": "text"
      },
      "source": [
        "Separando os gêneros do filme"
      ]
    },
    {
      "cell_type": "code",
      "metadata": {
        "id": "wn1BdAZYeerb",
        "colab_type": "code",
        "colab": {}
      },
      "source": [
        "generos = filmes_com_media_e_votos.generos.str.split(pat = '|', expand = True)\n",
        "generos = generos.apply(pd.value_counts)\n",
        "generos = generos.sum(axis=1)"
      ],
      "execution_count": 0,
      "outputs": []
    },
    {
      "cell_type": "markdown",
      "metadata": {
        "id": "DWGxJKpykv7Q",
        "colab_type": "text"
      },
      "source": [
        "Criando um dataframe com as informações coletadas"
      ]
    },
    {
      "cell_type": "code",
      "metadata": {
        "id": "PKEkWipJkzb4",
        "colab_type": "code",
        "colab": {}
      },
      "source": [
        "data = {'Generos':generos.index, 'Vezes Citados':generos}\n",
        "df_generos = pd.DataFrame(data)\n",
        "df_generos = df_generos.reset_index()\n",
        "df_generos.drop(columns = ['index'], inplace = True)"
      ],
      "execution_count": 0,
      "outputs": []
    },
    {
      "cell_type": "markdown",
      "metadata": {
        "id": "c72jAivxk5ra",
        "colab_type": "text"
      },
      "source": [
        "Mostrando os gêneros"
      ]
    },
    {
      "cell_type": "code",
      "metadata": {
        "id": "W_FY88WZk8yR",
        "colab_type": "code",
        "outputId": "cf8c3d97-7360-4f56-a05c-65d3060cc293",
        "colab": {
          "base_uri": "https://localhost:8080/",
          "height": 374
        }
      },
      "source": [
        "print(df_generos['Generos'])"
      ],
      "execution_count": 0,
      "outputs": [
        {
          "output_type": "stream",
          "text": [
            "0     (no genres listed)\n",
            "1                 Action\n",
            "2              Adventure\n",
            "3              Animation\n",
            "4               Children\n",
            "5                 Comedy\n",
            "6                  Crime\n",
            "7            Documentary\n",
            "8                  Drama\n",
            "9                Fantasy\n",
            "10             Film-Noir\n",
            "11                Horror\n",
            "12                  IMAX\n",
            "13               Musical\n",
            "14               Mystery\n",
            "15               Romance\n",
            "16                Sci-Fi\n",
            "17              Thriller\n",
            "18                   War\n",
            "19               Western\n",
            "Name: Generos, dtype: object\n"
          ],
          "name": "stdout"
        }
      ]
    },
    {
      "cell_type": "markdown",
      "metadata": {
        "id": "W31mymGuk-6V",
        "colab_type": "text"
      },
      "source": [
        "Mostrando o número de filmes que cada um foi classificado"
      ]
    },
    {
      "cell_type": "code",
      "metadata": {
        "id": "zZ8I32QglC-R",
        "colab_type": "code",
        "outputId": "74c19ead-2435-4362-8baf-a675a28277e1",
        "colab": {
          "base_uri": "https://localhost:8080/",
          "height": 374
        }
      },
      "source": [
        "print(df_generos)"
      ],
      "execution_count": 0,
      "outputs": [
        {
          "output_type": "stream",
          "text": [
            "               Generos  Vezes Citados\n",
            "0   (no genres listed)           34.0\n",
            "1               Action         1828.0\n",
            "2            Adventure         1263.0\n",
            "3            Animation          611.0\n",
            "4             Children          664.0\n",
            "5               Comedy         3756.0\n",
            "6                Crime         1199.0\n",
            "7          Documentary          440.0\n",
            "8                Drama         4361.0\n",
            "9              Fantasy          779.0\n",
            "10           Film-Noir           87.0\n",
            "11              Horror          978.0\n",
            "12                IMAX          158.0\n",
            "13             Musical          334.0\n",
            "14             Mystery          573.0\n",
            "15             Romance         1596.0\n",
            "16              Sci-Fi          980.0\n",
            "17            Thriller         1894.0\n",
            "18                 War          382.0\n",
            "19             Western          167.0\n"
          ],
          "name": "stdout"
        }
      ]
    },
    {
      "cell_type": "markdown",
      "metadata": {
        "id": "2nqFZf24iYwg",
        "colab_type": "text"
      },
      "source": [
        "Plotando os gêneros e número de vezes listados"
      ]
    },
    {
      "cell_type": "code",
      "metadata": {
        "id": "kSU0DvCmiYm4",
        "colab_type": "code",
        "outputId": "99d5264e-9eb1-4f4d-a4ff-cc9bcde1b855",
        "colab": {
          "base_uri": "https://localhost:8080/",
          "height": 390
        }
      },
      "source": [
        "df_generos.plot(x = 'Generos', y = 'Vezes Citados', kind = 'bar', title = \"Gêneros e quantas vezes são citados nos filmes\")"
      ],
      "execution_count": 0,
      "outputs": [
        {
          "output_type": "execute_result",
          "data": {
            "text/plain": [
              "<matplotlib.axes._subplots.AxesSubplot at 0x7f2a1123e240>"
            ]
          },
          "metadata": {
            "tags": []
          },
          "execution_count": 153
        },
        {
          "output_type": "display_data",
          "data": {
            "image/png": "[encoded data removed]",
            "text/plain": [
              "<Figure size 432x288 with 1 Axes>"
            ]
          },
          "metadata": {
            "tags": [],
            "needs_background": "light"
          }
        }
      ]
    }
  ]
}