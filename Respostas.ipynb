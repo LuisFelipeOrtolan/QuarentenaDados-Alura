{
  "nbformat": 4,
  "nbformat_minor": 0,
  "metadata": {
    "colab": {
      "name": "Aula 1",
      "provenance": [],
      "authorship_tag": "ABX9TyMwey9n53Tt6BYiGJCBUV8S",
      "include_colab_link": true
    },
    "kernelspec": {
      "name": "python3",
      "display_name": "Python 3"
    }
  },
  "cells": [
    {
      "cell_type": "markdown",
      "metadata": {
        "id": "view-in-github",
        "colab_type": "text"
      },
      "source": [
        "<a href=\"https://colab.research.google.com/github/LuisFelipeOrtolan/QuarentenaDados-Alura/blob/master/Respostas.ipynb\" target=\"_parent\"><img src=\"https://colab.research.google.com/assets/colab-badge.svg\" alt=\"Open In Colab\"/></a>"
      ]
    },
    {
      "cell_type": "markdown",
      "metadata": {
        "id": "XN8XZ5rknGRx",
        "colab_type": "text"
      },
      "source": [
        "## Aula 1: Python, Pandas e Colab"
      ]
    },
    {
      "cell_type": "markdown",
      "metadata": {
        "id": "4wUYQGnEQwf8",
        "colab_type": "text"
      },
      "source": [
        "Importando as Bibliotecas\n"
      ]
    },
    {
      "cell_type": "code",
      "metadata": {
        "id": "hyerhOZlJMNF",
        "colab_type": "code",
        "outputId": "07b7faf6-91c2-403c-a55b-eef5573c5115",
        "colab": {
          "base_uri": "https://localhost:8080/",
          "height": 51
        }
      },
      "source": [
        "import pandas as pd\n",
        "import numpy as np\n",
        "import matplotlib.pyplot as plt\n",
        "import seaborn as sns"
      ],
      "execution_count": 1,
      "outputs": [
        {
          "output_type": "stream",
          "text": [
            "/usr/local/lib/python3.6/dist-packages/statsmodels/tools/_testing.py:19: FutureWarning: pandas.util.testing is deprecated. Use the functions in the public API at pandas.testing instead.\n",
            "  import pandas.util.testing as tm\n"
          ],
          "name": "stderr"
        }
      ]
    },
    {
      "cell_type": "markdown",
      "metadata": {
        "id": "BG26lesjQ2yO",
        "colab_type": "text"
      },
      "source": [
        "Obtendo a base de dados dos filmes do MovieLens\n"
      ]
    },
    {
      "cell_type": "code",
      "metadata": {
        "id": "lw5vSvh2OuYw",
        "colab_type": "code",
        "colab": {}
      },
      "source": [
        "filmes = pd.read_csv(\"https://raw.githubusercontent.com/alura-cursos/introducao-a-data-science/master/aula0/ml-latest-small/movies.csv\")\n",
        "filmes.columns = [\"filmeID\",\"titulo\",\"generos\"]\n"
      ],
      "execution_count": 0,
      "outputs": []
    },
    {
      "cell_type": "markdown",
      "metadata": {
        "id": "hAXvxVYFQ9Ko",
        "colab_type": "text"
      },
      "source": [
        "Obtendo a base de dados de avaliações do MovieLens\n"
      ]
    },
    {
      "cell_type": "code",
      "metadata": {
        "id": "Cbbglq2hO-4q",
        "colab_type": "code",
        "colab": {}
      },
      "source": [
        "avaliacoes = pd.read_csv(\"https://github.com/alura-cursos/introducao-a-data-science/blob/master/aula0/ml-latest-small/ratings.csv?raw=true\")\n",
        "avaliacoes.columns = [\"usuarioID\",\"filmeID\", \"nota\", \"momento\"]"
      ],
      "execution_count": 0,
      "outputs": []
    },
    {
      "cell_type": "markdown",
      "metadata": {
        "id": "PxnGcVCsRHOl",
        "colab_type": "text"
      },
      "source": [
        "Obtendo a média da avaliação de cada filme"
      ]
    },
    {
      "cell_type": "code",
      "metadata": {
        "id": "mBsA8DypQNEA",
        "colab_type": "code",
        "colab": {}
      },
      "source": [
        "notas_medias_por_filme = avaliacoes.groupby(\"filmeID\")[\"nota\"].mean()"
      ],
      "execution_count": 0,
      "outputs": []
    },
    {
      "cell_type": "markdown",
      "metadata": {
        "id": "MiQfttlJRP7L",
        "colab_type": "text"
      },
      "source": [
        "Juntando os filmes com a média de avaliação de cada filme!"
      ]
    },
    {
      "cell_type": "code",
      "metadata": {
        "id": "lYC56w2NQZOq",
        "colab_type": "code",
        "colab": {}
      },
      "source": [
        "filmes_com_media = filmes.join(notas_medias_por_filme, on=\"filmeID\")\n",
        "filmes_com_media.rename(columns = {\"nota\":\"nota_media\"}, inplace = True)\n",
        "filmes_com_media = filmes_com_media.round({'nota_media':2})"
      ],
      "execution_count": 0,
      "outputs": []
    },
    {
      "cell_type": "markdown",
      "metadata": {
        "id": "IArEMopARay5",
        "colab_type": "text"
      },
      "source": [
        "Determinando os filmes que não possuem avaliação"
      ]
    },
    {
      "cell_type": "code",
      "metadata": {
        "id": "DNVwm3skRfTP",
        "colab_type": "code",
        "outputId": "f1b3af8c-486e-49b1-fa6a-51b8898d0b9b",
        "colab": {
          "base_uri": "https://localhost:8080/",
          "height": 607
        }
      },
      "source": [
        "filmes_sem_nota = filmes_com_media[filmes_com_media.isnull().any(axis=1)]\n",
        "filmes_sem_nota"
      ],
      "execution_count": 6,
      "outputs": [
        {
          "output_type": "execute_result",
          "data": {
            "text/html": [
              "<div>\n",
              "<style scoped>\n",
              "    .dataframe tbody tr th:only-of-type {\n",
              "        vertical-align: middle;\n",
              "    }\n",
              "\n",
              "    .dataframe tbody tr th {\n",
              "        vertical-align: top;\n",
              "    }\n",
              "\n",
              "    .dataframe thead th {\n",
              "        text-align: right;\n",
              "    }\n",
              "</style>\n",
              "<table border=\"1\" class=\"dataframe\">\n",
              "  <thead>\n",
              "    <tr style=\"text-align: right;\">\n",
              "      <th></th>\n",
              "      <th>filmeID</th>\n",
              "      <th>titulo</th>\n",
              "      <th>generos</th>\n",
              "      <th>nota_media</th>\n",
              "    </tr>\n",
              "  </thead>\n",
              "  <tbody>\n",
              "    <tr>\n",
              "      <th>816</th>\n",
              "      <td>1076</td>\n",
              "      <td>Innocents, The (1961)</td>\n",
              "      <td>Drama|Horror|Thriller</td>\n",
              "      <td>NaN</td>\n",
              "    </tr>\n",
              "    <tr>\n",
              "      <th>2211</th>\n",
              "      <td>2939</td>\n",
              "      <td>Niagara (1953)</td>\n",
              "      <td>Drama|Thriller</td>\n",
              "      <td>NaN</td>\n",
              "    </tr>\n",
              "    <tr>\n",
              "      <th>2499</th>\n",
              "      <td>3338</td>\n",
              "      <td>For All Mankind (1989)</td>\n",
              "      <td>Documentary</td>\n",
              "      <td>NaN</td>\n",
              "    </tr>\n",
              "    <tr>\n",
              "      <th>2587</th>\n",
              "      <td>3456</td>\n",
              "      <td>Color of Paradise, The (Rang-e khoda) (1999)</td>\n",
              "      <td>Drama</td>\n",
              "      <td>NaN</td>\n",
              "    </tr>\n",
              "    <tr>\n",
              "      <th>3118</th>\n",
              "      <td>4194</td>\n",
              "      <td>I Know Where I'm Going! (1945)</td>\n",
              "      <td>Drama|Romance|War</td>\n",
              "      <td>NaN</td>\n",
              "    </tr>\n",
              "    <tr>\n",
              "      <th>4037</th>\n",
              "      <td>5721</td>\n",
              "      <td>Chosen, The (1981)</td>\n",
              "      <td>Drama</td>\n",
              "      <td>NaN</td>\n",
              "    </tr>\n",
              "    <tr>\n",
              "      <th>4506</th>\n",
              "      <td>6668</td>\n",
              "      <td>Road Home, The (Wo de fu qin mu qin) (1999)</td>\n",
              "      <td>Drama|Romance</td>\n",
              "      <td>NaN</td>\n",
              "    </tr>\n",
              "    <tr>\n",
              "      <th>4598</th>\n",
              "      <td>6849</td>\n",
              "      <td>Scrooge (1970)</td>\n",
              "      <td>Drama|Fantasy|Musical</td>\n",
              "      <td>NaN</td>\n",
              "    </tr>\n",
              "    <tr>\n",
              "      <th>4704</th>\n",
              "      <td>7020</td>\n",
              "      <td>Proof (1991)</td>\n",
              "      <td>Comedy|Drama|Romance</td>\n",
              "      <td>NaN</td>\n",
              "    </tr>\n",
              "    <tr>\n",
              "      <th>5020</th>\n",
              "      <td>7792</td>\n",
              "      <td>Parallax View, The (1974)</td>\n",
              "      <td>Thriller</td>\n",
              "      <td>NaN</td>\n",
              "    </tr>\n",
              "    <tr>\n",
              "      <th>5293</th>\n",
              "      <td>8765</td>\n",
              "      <td>This Gun for Hire (1942)</td>\n",
              "      <td>Crime|Film-Noir|Thriller</td>\n",
              "      <td>NaN</td>\n",
              "    </tr>\n",
              "    <tr>\n",
              "      <th>5421</th>\n",
              "      <td>25855</td>\n",
              "      <td>Roaring Twenties, The (1939)</td>\n",
              "      <td>Crime|Drama|Thriller</td>\n",
              "      <td>NaN</td>\n",
              "    </tr>\n",
              "    <tr>\n",
              "      <th>5452</th>\n",
              "      <td>26085</td>\n",
              "      <td>Mutiny on the Bounty (1962)</td>\n",
              "      <td>Adventure|Drama|Romance</td>\n",
              "      <td>NaN</td>\n",
              "    </tr>\n",
              "    <tr>\n",
              "      <th>5749</th>\n",
              "      <td>30892</td>\n",
              "      <td>In the Realms of the Unreal (2004)</td>\n",
              "      <td>Animation|Documentary</td>\n",
              "      <td>NaN</td>\n",
              "    </tr>\n",
              "    <tr>\n",
              "      <th>5824</th>\n",
              "      <td>32160</td>\n",
              "      <td>Twentieth Century (1934)</td>\n",
              "      <td>Comedy</td>\n",
              "      <td>NaN</td>\n",
              "    </tr>\n",
              "    <tr>\n",
              "      <th>5837</th>\n",
              "      <td>32371</td>\n",
              "      <td>Call Northside 777 (1948)</td>\n",
              "      <td>Crime|Drama|Film-Noir</td>\n",
              "      <td>NaN</td>\n",
              "    </tr>\n",
              "    <tr>\n",
              "      <th>5957</th>\n",
              "      <td>34482</td>\n",
              "      <td>Browning Version, The (1951)</td>\n",
              "      <td>Drama</td>\n",
              "      <td>NaN</td>\n",
              "    </tr>\n",
              "    <tr>\n",
              "      <th>7565</th>\n",
              "      <td>85565</td>\n",
              "      <td>Chalet Girl (2011)</td>\n",
              "      <td>Comedy|Romance</td>\n",
              "      <td>NaN</td>\n",
              "    </tr>\n",
              "  </tbody>\n",
              "</table>\n",
              "</div>"
            ],
            "text/plain": [
              "      filmeID  ... nota_media\n",
              "816      1076  ...        NaN\n",
              "2211     2939  ...        NaN\n",
              "2499     3338  ...        NaN\n",
              "2587     3456  ...        NaN\n",
              "3118     4194  ...        NaN\n",
              "4037     5721  ...        NaN\n",
              "4506     6668  ...        NaN\n",
              "4598     6849  ...        NaN\n",
              "4704     7020  ...        NaN\n",
              "5020     7792  ...        NaN\n",
              "5293     8765  ...        NaN\n",
              "5421    25855  ...        NaN\n",
              "5452    26085  ...        NaN\n",
              "5749    30892  ...        NaN\n",
              "5824    32160  ...        NaN\n",
              "5837    32371  ...        NaN\n",
              "5957    34482  ...        NaN\n",
              "7565    85565  ...        NaN\n",
              "\n",
              "[18 rows x 4 columns]"
            ]
          },
          "metadata": {
            "tags": []
          },
          "execution_count": 6
        }
      ]
    },
    {
      "cell_type": "markdown",
      "metadata": {
        "id": "N64A7X8qX0Dm",
        "colab_type": "text"
      },
      "source": [
        "Contando quantas avaliações cada filme teve"
      ]
    },
    {
      "cell_type": "code",
      "metadata": {
        "id": "La9vXuiAX3_1",
        "colab_type": "code",
        "outputId": "91a072a3-5ea1-489a-fba1-bbc22b5ac6ed",
        "colab": {
          "base_uri": "https://localhost:8080/",
          "height": 204
        }
      },
      "source": [
        "votos_por_filme = avaliacoes.groupby(\"filmeID\")[\"nota\"].count()\n",
        "votos_por_filme = votos_por_filme.rename(\"votos_por_filme\")\n",
        "\n",
        "filmes_com_media_e_votos = filmes_com_media.join(votos_por_filme, on=\"filmeID\")\n",
        "filmes_com_media_e_votos.head()"
      ],
      "execution_count": 7,
      "outputs": [
        {
          "output_type": "execute_result",
          "data": {
            "text/html": [
              "<div>\n",
              "<style scoped>\n",
              "    .dataframe tbody tr th:only-of-type {\n",
              "        vertical-align: middle;\n",
              "    }\n",
              "\n",
              "    .dataframe tbody tr th {\n",
              "        vertical-align: top;\n",
              "    }\n",
              "\n",
              "    .dataframe thead th {\n",
              "        text-align: right;\n",
              "    }\n",
              "</style>\n",
              "<table border=\"1\" class=\"dataframe\">\n",
              "  <thead>\n",
              "    <tr style=\"text-align: right;\">\n",
              "      <th></th>\n",
              "      <th>filmeID</th>\n",
              "      <th>titulo</th>\n",
              "      <th>generos</th>\n",
              "      <th>nota_media</th>\n",
              "      <th>votos_por_filme</th>\n",
              "    </tr>\n",
              "  </thead>\n",
              "  <tbody>\n",
              "    <tr>\n",
              "      <th>0</th>\n",
              "      <td>1</td>\n",
              "      <td>Toy Story (1995)</td>\n",
              "      <td>Adventure|Animation|Children|Comedy|Fantasy</td>\n",
              "      <td>3.92</td>\n",
              "      <td>215.0</td>\n",
              "    </tr>\n",
              "    <tr>\n",
              "      <th>1</th>\n",
              "      <td>2</td>\n",
              "      <td>Jumanji (1995)</td>\n",
              "      <td>Adventure|Children|Fantasy</td>\n",
              "      <td>3.43</td>\n",
              "      <td>110.0</td>\n",
              "    </tr>\n",
              "    <tr>\n",
              "      <th>2</th>\n",
              "      <td>3</td>\n",
              "      <td>Grumpier Old Men (1995)</td>\n",
              "      <td>Comedy|Romance</td>\n",
              "      <td>3.26</td>\n",
              "      <td>52.0</td>\n",
              "    </tr>\n",
              "    <tr>\n",
              "      <th>3</th>\n",
              "      <td>4</td>\n",
              "      <td>Waiting to Exhale (1995)</td>\n",
              "      <td>Comedy|Drama|Romance</td>\n",
              "      <td>2.36</td>\n",
              "      <td>7.0</td>\n",
              "    </tr>\n",
              "    <tr>\n",
              "      <th>4</th>\n",
              "      <td>5</td>\n",
              "      <td>Father of the Bride Part II (1995)</td>\n",
              "      <td>Comedy</td>\n",
              "      <td>3.07</td>\n",
              "      <td>49.0</td>\n",
              "    </tr>\n",
              "  </tbody>\n",
              "</table>\n",
              "</div>"
            ],
            "text/plain": [
              "   filmeID                              titulo  ... nota_media  votos_por_filme\n",
              "0        1                    Toy Story (1995)  ...       3.92            215.0\n",
              "1        2                      Jumanji (1995)  ...       3.43            110.0\n",
              "2        3             Grumpier Old Men (1995)  ...       3.26             52.0\n",
              "3        4            Waiting to Exhale (1995)  ...       2.36              7.0\n",
              "4        5  Father of the Bride Part II (1995)  ...       3.07             49.0\n",
              "\n",
              "[5 rows x 5 columns]"
            ]
          },
          "metadata": {
            "tags": []
          },
          "execution_count": 7
        }
      ]
    },
    {
      "cell_type": "markdown",
      "metadata": {
        "id": "eM1QGbolee38",
        "colab_type": "text"
      },
      "source": [
        "Separando os gêneros do filme"
      ]
    },
    {
      "cell_type": "code",
      "metadata": {
        "id": "wn1BdAZYeerb",
        "colab_type": "code",
        "colab": {}
      },
      "source": [
        "generos = filmes_com_media_e_votos.generos.str.split(pat = '|', expand = True)\n",
        "generos = generos.apply(pd.value_counts)\n",
        "generos = generos.sum(axis=1)"
      ],
      "execution_count": 0,
      "outputs": []
    },
    {
      "cell_type": "markdown",
      "metadata": {
        "id": "DWGxJKpykv7Q",
        "colab_type": "text"
      },
      "source": [
        "Criando um dataframe com as informações coletadas"
      ]
    },
    {
      "cell_type": "code",
      "metadata": {
        "id": "PKEkWipJkzb4",
        "colab_type": "code",
        "colab": {}
      },
      "source": [
        "data = {'Generos':generos.index, 'Vezes_citados':generos}\n",
        "df_generos = pd.DataFrame(data)\n",
        "df_generos = df_generos.reset_index()\n",
        "df_generos.drop(columns = ['index'], inplace = True)"
      ],
      "execution_count": 0,
      "outputs": []
    },
    {
      "cell_type": "markdown",
      "metadata": {
        "id": "c72jAivxk5ra",
        "colab_type": "text"
      },
      "source": [
        "Mostrando os gêneros"
      ]
    },
    {
      "cell_type": "code",
      "metadata": {
        "id": "W_FY88WZk8yR",
        "colab_type": "code",
        "outputId": "0faabb27-87d0-4d57-b2e3-000fa39ec1cb",
        "colab": {
          "base_uri": "https://localhost:8080/",
          "height": 374
        }
      },
      "source": [
        "print(df_generos['Generos'])"
      ],
      "execution_count": 10,
      "outputs": [
        {
          "output_type": "stream",
          "text": [
            "0     (no genres listed)\n",
            "1                 Action\n",
            "2              Adventure\n",
            "3              Animation\n",
            "4               Children\n",
            "5                 Comedy\n",
            "6                  Crime\n",
            "7            Documentary\n",
            "8                  Drama\n",
            "9                Fantasy\n",
            "10             Film-Noir\n",
            "11                Horror\n",
            "12                  IMAX\n",
            "13               Musical\n",
            "14               Mystery\n",
            "15               Romance\n",
            "16                Sci-Fi\n",
            "17              Thriller\n",
            "18                   War\n",
            "19               Western\n",
            "Name: Generos, dtype: object\n"
          ],
          "name": "stdout"
        }
      ]
    },
    {
      "cell_type": "markdown",
      "metadata": {
        "id": "W31mymGuk-6V",
        "colab_type": "text"
      },
      "source": [
        "Mostrando o número de filmes que cada um foi classificado"
      ]
    },
    {
      "cell_type": "code",
      "metadata": {
        "id": "zZ8I32QglC-R",
        "colab_type": "code",
        "outputId": "4c05c228-7c9e-4ac9-f292-8c0b528276d0",
        "colab": {
          "base_uri": "https://localhost:8080/",
          "height": 374
        }
      },
      "source": [
        "print(df_generos)"
      ],
      "execution_count": 11,
      "outputs": [
        {
          "output_type": "stream",
          "text": [
            "               Generos  Vezes_citados\n",
            "0   (no genres listed)           34.0\n",
            "1               Action         1828.0\n",
            "2            Adventure         1263.0\n",
            "3            Animation          611.0\n",
            "4             Children          664.0\n",
            "5               Comedy         3756.0\n",
            "6                Crime         1199.0\n",
            "7          Documentary          440.0\n",
            "8                Drama         4361.0\n",
            "9              Fantasy          779.0\n",
            "10           Film-Noir           87.0\n",
            "11              Horror          978.0\n",
            "12                IMAX          158.0\n",
            "13             Musical          334.0\n",
            "14             Mystery          573.0\n",
            "15             Romance         1596.0\n",
            "16              Sci-Fi          980.0\n",
            "17            Thriller         1894.0\n",
            "18                 War          382.0\n",
            "19             Western          167.0\n"
          ],
          "name": "stdout"
        }
      ]
    },
    {
      "cell_type": "markdown",
      "metadata": {
        "id": "2nqFZf24iYwg",
        "colab_type": "text"
      },
      "source": [
        "Plotando os gêneros e número de vezes listados"
      ]
    },
    {
      "cell_type": "code",
      "metadata": {
        "id": "kSU0DvCmiYm4",
        "colab_type": "code",
        "outputId": "2d0aaed8-e247-4998-c6b8-a12364257312",
        "colab": {
          "base_uri": "https://localhost:8080/",
          "height": 373
        }
      },
      "source": [
        "df_generos.plot(x = 'Generos', y = 'Vezes_citados', kind = 'bar', title = \"Gêneros e quantas vezes são citados nos filmes\")\n",
        "plt.show()"
      ],
      "execution_count": 12,
      "outputs": [
        {
          "output_type": "display_data",
          "data": {
            "image/png": "[encoded data removed]",
            "text/plain": [
              "<Figure size 432x288 with 1 Axes>"
            ]
          },
          "metadata": {
            "tags": [],
            "needs_background": "light"
          }
        }
      ]
    },
    {
      "cell_type": "markdown",
      "metadata": {
        "id": "QbMV2sC4niUl",
        "colab_type": "text"
      },
      "source": [
        "## Aula 2: Médias, medianas e visualização de dados"
      ]
    },
    {
      "cell_type": "markdown",
      "metadata": {
        "id": "XDmkocozoNZS",
        "colab_type": "text"
      },
      "source": [
        "Ordenando os gêneros pelo número de vezes citados e plotando novamente o gráfico\n",
        "\n",
        "---\n",
        "\n"
      ]
    },
    {
      "cell_type": "code",
      "metadata": {
        "id": "Z4rRAXtEnulI",
        "colab_type": "code",
        "outputId": "a0296f29-b7a5-4efa-f4ef-76b54117d857",
        "colab": {
          "base_uri": "https://localhost:8080/",
          "height": 390
        }
      },
      "source": [
        "df_generos.sort_values(by = \"Vezes_citados\", ascending = False, inplace = True)\n",
        "df_generos.plot(x = 'Generos', y = 'Vezes_citados', kind = 'bar', title = \"Gêneros e quantas vezes são citados nos filmes\")"
      ],
      "execution_count": 13,
      "outputs": [
        {
          "output_type": "execute_result",
          "data": {
            "text/plain": [
              "<matplotlib.axes._subplots.AxesSubplot at 0x7fdf89eea2b0>"
            ]
          },
          "metadata": {
            "tags": []
          },
          "execution_count": 13
        },
        {
          "output_type": "display_data",
          "data": {
            "image/png": "[encoded data removed]",
            "text/plain": [
              "<Figure size 432x288 with 1 Axes>"
            ]
          },
          "metadata": {
            "tags": [],
            "needs_background": "light"
          }
        }
      ]
    },
    {
      "cell_type": "markdown",
      "metadata": {
        "id": "6LT3fRPvo_8A",
        "colab_type": "text"
      },
      "source": [
        "Colocando cores graduais no gráfico para melhor visualização e inclinando os xticks em 45 gruas"
      ]
    },
    {
      "cell_type": "code",
      "metadata": {
        "id": "cSTqPmFFpI7V",
        "colab_type": "code",
        "outputId": "41db259b-8704-4e25-cbc6-6dc23c0dac74",
        "colab": {
          "base_uri": "https://localhost:8080/",
          "height": 556
        }
      },
      "source": [
        "sns.set_style(\"whitegrid\")\n",
        "plt.figure(figsize=(25,8))\n",
        "sns.barplot(x=df_generos.Generos, y=df_generos.Vezes_citados, palette=sns.color_palette(\"BuGn_r\", n_colors=len(df_generos.Generos) + 8))\n",
        "plt.xticks(rotation= -45)\n",
        "plt.show()"
      ],
      "execution_count": 14,
      "outputs": [
        {
          "output_type": "display_data",
          "data": {
            "image/png": "[encoded data removed]",
            "text/plain": [
              "<Figure size 1800x576 with 1 Axes>"
            ]
          },
          "metadata": {
            "tags": []
          }
        }
      ]
    },
    {
      "cell_type": "markdown",
      "metadata": {
        "id": "ufYiX7JmvNxp",
        "colab_type": "text"
      },
      "source": [
        "Criando uma função que plota gráficos do tipo histograma e boxplot para as notas de um filme"
      ]
    },
    {
      "cell_type": "code",
      "metadata": {
        "id": "TdkNGsruvWCR",
        "colab_type": "code",
        "colab": {}
      },
      "source": [
        "def plot_filme(n):\n",
        "  notas_do_filme = avaliacoes.query(f\"filmeID=={n}\")[\"nota\"]\n",
        "  notas_do_filme.plot(kind='hist')\n",
        "  plt.show()\n",
        "  print('\\n')\n",
        "  notas_do_filme.plot.box()\n",
        "  plt.show()"
      ],
      "execution_count": 0,
      "outputs": []
    },
    {
      "cell_type": "markdown",
      "metadata": {
        "id": "VaAQ23huJner",
        "colab_type": "text"
      },
      "source": [
        "Encontrando filmes com notas médias semelhantes"
      ]
    },
    {
      "cell_type": "code",
      "metadata": {
        "id": "6qgr8BGevo-z",
        "colab_type": "code",
        "outputId": "b545fde6-d740-4bb6-9ef5-cbd576b72ffb",
        "colab": {
          "base_uri": "https://localhost:8080/",
          "height": 545
        }
      },
      "source": [
        "filmes_com_media.query(\"nota_media == 3.27\")"
      ],
      "execution_count": 16,
      "outputs": [
        {
          "output_type": "execute_result",
          "data": {
            "text/html": [
              "<div>\n",
              "<style scoped>\n",
              "    .dataframe tbody tr th:only-of-type {\n",
              "        vertical-align: middle;\n",
              "    }\n",
              "\n",
              "    .dataframe tbody tr th {\n",
              "        vertical-align: top;\n",
              "    }\n",
              "\n",
              "    .dataframe thead th {\n",
              "        text-align: right;\n",
              "    }\n",
              "</style>\n",
              "<table border=\"1\" class=\"dataframe\">\n",
              "  <thead>\n",
              "    <tr style=\"text-align: right;\">\n",
              "      <th></th>\n",
              "      <th>filmeID</th>\n",
              "      <th>titulo</th>\n",
              "      <th>generos</th>\n",
              "      <th>nota_media</th>\n",
              "    </tr>\n",
              "  </thead>\n",
              "  <tbody>\n",
              "    <tr>\n",
              "      <th>300</th>\n",
              "      <td>342</td>\n",
              "      <td>Muriel's Wedding (1994)</td>\n",
              "      <td>Comedy</td>\n",
              "      <td>3.27</td>\n",
              "    </tr>\n",
              "    <tr>\n",
              "      <th>468</th>\n",
              "      <td>535</td>\n",
              "      <td>Short Cuts (1993)</td>\n",
              "      <td>Drama</td>\n",
              "      <td>3.27</td>\n",
              "    </tr>\n",
              "    <tr>\n",
              "      <th>649</th>\n",
              "      <td>837</td>\n",
              "      <td>Matilda (1996)</td>\n",
              "      <td>Children|Comedy|Fantasy</td>\n",
              "      <td>3.27</td>\n",
              "    </tr>\n",
              "    <tr>\n",
              "      <th>797</th>\n",
              "      <td>1042</td>\n",
              "      <td>That Thing You Do! (1996)</td>\n",
              "      <td>Comedy|Drama</td>\n",
              "      <td>3.27</td>\n",
              "    </tr>\n",
              "    <tr>\n",
              "      <th>1374</th>\n",
              "      <td>1883</td>\n",
              "      <td>Bulworth (1998)</td>\n",
              "      <td>Comedy|Drama|Romance</td>\n",
              "      <td>3.27</td>\n",
              "    </tr>\n",
              "    <tr>\n",
              "      <th>1807</th>\n",
              "      <td>2407</td>\n",
              "      <td>Cocoon (1985)</td>\n",
              "      <td>Comedy|Sci-Fi</td>\n",
              "      <td>3.27</td>\n",
              "    </tr>\n",
              "    <tr>\n",
              "      <th>1840</th>\n",
              "      <td>2447</td>\n",
              "      <td>Varsity Blues (1999)</td>\n",
              "      <td>Comedy|Drama</td>\n",
              "      <td>3.27</td>\n",
              "    </tr>\n",
              "    <tr>\n",
              "      <th>1850</th>\n",
              "      <td>2459</td>\n",
              "      <td>Texas Chainsaw Massacre, The (1974)</td>\n",
              "      <td>Horror</td>\n",
              "      <td>3.27</td>\n",
              "    </tr>\n",
              "    <tr>\n",
              "      <th>2032</th>\n",
              "      <td>2707</td>\n",
              "      <td>Arlington Road (1999)</td>\n",
              "      <td>Thriller</td>\n",
              "      <td>3.27</td>\n",
              "    </tr>\n",
              "    <tr>\n",
              "      <th>2089</th>\n",
              "      <td>2779</td>\n",
              "      <td>Heaven Can Wait (1978)</td>\n",
              "      <td>Comedy</td>\n",
              "      <td>3.27</td>\n",
              "    </tr>\n",
              "    <tr>\n",
              "      <th>2766</th>\n",
              "      <td>3704</td>\n",
              "      <td>Mad Max Beyond Thunderdome (1985)</td>\n",
              "      <td>Action|Adventure|Sci-Fi</td>\n",
              "      <td>3.27</td>\n",
              "    </tr>\n",
              "    <tr>\n",
              "      <th>2847</th>\n",
              "      <td>3809</td>\n",
              "      <td>What About Bob? (1991)</td>\n",
              "      <td>Comedy</td>\n",
              "      <td>3.27</td>\n",
              "    </tr>\n",
              "    <tr>\n",
              "      <th>3790</th>\n",
              "      <td>5299</td>\n",
              "      <td>My Big Fat Greek Wedding (2002)</td>\n",
              "      <td>Comedy|Romance</td>\n",
              "      <td>3.27</td>\n",
              "    </tr>\n",
              "    <tr>\n",
              "      <th>5256</th>\n",
              "      <td>8623</td>\n",
              "      <td>Roxanne (1987)</td>\n",
              "      <td>Comedy|Romance</td>\n",
              "      <td>3.27</td>\n",
              "    </tr>\n",
              "    <tr>\n",
              "      <th>5996</th>\n",
              "      <td>37384</td>\n",
              "      <td>Waiting... (2005)</td>\n",
              "      <td>Comedy</td>\n",
              "      <td>3.27</td>\n",
              "    </tr>\n",
              "    <tr>\n",
              "      <th>7612</th>\n",
              "      <td>86911</td>\n",
              "      <td>Hangover Part II, The (2011)</td>\n",
              "      <td>Comedy</td>\n",
              "      <td>3.27</td>\n",
              "    </tr>\n",
              "  </tbody>\n",
              "</table>\n",
              "</div>"
            ],
            "text/plain": [
              "      filmeID  ... nota_media\n",
              "300       342  ...       3.27\n",
              "468       535  ...       3.27\n",
              "649       837  ...       3.27\n",
              "797      1042  ...       3.27\n",
              "1374     1883  ...       3.27\n",
              "1807     2407  ...       3.27\n",
              "1840     2447  ...       3.27\n",
              "1850     2459  ...       3.27\n",
              "2032     2707  ...       3.27\n",
              "2089     2779  ...       3.27\n",
              "2766     3704  ...       3.27\n",
              "2847     3809  ...       3.27\n",
              "3790     5299  ...       3.27\n",
              "5256     8623  ...       3.27\n",
              "5996    37384  ...       3.27\n",
              "7612    86911  ...       3.27\n",
              "\n",
              "[16 rows x 4 columns]"
            ]
          },
          "metadata": {
            "tags": []
          },
          "execution_count": 16
        }
      ]
    },
    {
      "cell_type": "markdown",
      "metadata": {
        "id": "W92N5kbYJ4za",
        "colab_type": "text"
      },
      "source": [
        "Comparando filmes com média igual e distribuições diferentes usando a função plot_filme()"
      ]
    },
    {
      "cell_type": "code",
      "metadata": {
        "id": "6OXDO2s7J4i2",
        "colab_type": "code",
        "outputId": "6abbf9ef-579e-4f86-c157-195a5eb7b05d",
        "colab": {
          "base_uri": "https://localhost:8080/",
          "height": 1000
        }
      },
      "source": [
        "plot_filme(342)\n",
        "plot_filme(535)"
      ],
      "execution_count": 17,
      "outputs": [
        {
          "output_type": "display_data",
          "data": {
            "image/png": "[encoded data removed]",
            "text/plain": [
              "<Figure size 432x288 with 1 Axes>"
            ]
          },
          "metadata": {
            "tags": []
          }
        },
        {
          "output_type": "stream",
          "text": [
            "\n",
            "\n"
          ],
          "name": "stdout"
        },
        {
          "output_type": "display_data",
          "data": {
            "image/png": "[encoded data removed]",
            "text/plain": [
              "<Figure size 432x288 with 1 Axes>"
            ]
          },
          "metadata": {
            "tags": []
          }
        },
        {
          "output_type": "display_data",
          "data": {
            "image/png": "[encoded data removed]",
            "text/plain": [
              "<Figure size 432x288 with 1 Axes>"
            ]
          },
          "metadata": {
            "tags": []
          }
        },
        {
          "output_type": "stream",
          "text": [
            "\n",
            "\n"
          ],
          "name": "stdout"
        },
        {
          "output_type": "display_data",
          "data": {
            "image/png": "[encoded data removed]",
            "text/plain": [
              "<Figure size 432x288 with 1 Axes>"
            ]
          },
          "metadata": {
            "tags": []
          }
        }
      ]
    },
    {
      "cell_type": "markdown",
      "metadata": {
        "id": "pyaoA5n4LLyM",
        "colab_type": "text"
      },
      "source": [
        "Tanto as distribuições quanto os box-plots são bem diferentes. O box-plot do filme 342 indica que(removendo os outliers) o máximo e o mínimo está contido entre 1.5 e 5 enquanto o do filme 535 está contido entre 1 e 5, além de 50% dos dados estar muito mais concentrado no primeiro filme do que no segundo. "
      ]
    },
    {
      "cell_type": "markdown",
      "metadata": {
        "id": "ts4uNrIXMeXx",
        "colab_type": "text"
      },
      "source": [
        "Criando o box-plot dos dez filmes com mais votos"
      ]
    },
    {
      "cell_type": "code",
      "metadata": {
        "id": "lP7WNbloMtS7",
        "colab_type": "code",
        "outputId": "998d5e00-ede4-4f81-f8f5-cfbc17cbaf7e",
        "colab": {
          "base_uri": "https://localhost:8080/",
          "height": 535
        }
      },
      "source": [
        "#Encontrando os 10 filmes com maior quantidade de votos.\n",
        "ids_mais_votados = filmes_com_media_e_votos.sort_values(by = \"votos_por_filme\", ascending = False).head(10).filmeID\n",
        "\n",
        "#Preparando para juntar as avaliações com os nomes dos filmes.\n",
        "mais_votados = avaliacoes.query(\"filmeID in @ids_mais_votados\")\n",
        "nomes_filmes = filmes.query(\"filmeID in @ids_mais_votados\")\n",
        "\n",
        "#Removendo colunas que não serão usadas.\n",
        "mais_votados = mais_votados.drop(columns = [\"usuarioID\", \"momento\"])\n",
        "nomes_filmes.drop(columns = [\"generos\"], inplace=True)\n",
        "\n",
        "#Juntando as colunas\n",
        "filmes_mais_votados = mais_votados.merge(nomes_filmes, on=\"filmeID\")\n",
        "\n",
        "#Plotando o gráfico\n",
        "plt.figure(figsize=(35,8))\n",
        "sns.boxplot(data = filmes_mais_votados, x =\"titulo\", y=\"nota\")\n",
        "plt.show()"
      ],
      "execution_count": 18,
      "outputs": [
        {
          "output_type": "stream",
          "text": [
            "/usr/local/lib/python3.6/dist-packages/pandas/core/frame.py:3997: SettingWithCopyWarning: \n",
            "A value is trying to be set on a copy of a slice from a DataFrame\n",
            "\n",
            "See the caveats in the documentation: https://pandas.pydata.org/pandas-docs/stable/user_guide/indexing.html#returning-a-view-versus-a-copy\n",
            "  errors=errors,\n"
          ],
          "name": "stderr"
        },
        {
          "output_type": "display_data",
          "data": {
            "image/png": "[encoded data removed]",
            "text/plain": [
              "<Figure size 2520x576 with 1 Axes>"
            ]
          },
          "metadata": {
            "tags": []
          }
        }
      ]
    },
    {
      "cell_type": "markdown",
      "metadata": {
        "id": "hcsLiSNfNVCy",
        "colab_type": "text"
      },
      "source": [
        "É possível ver que a maioria dos filmes envolvem em seu 50% dos votos as notas 4 e 5. Isso provavelmente indica que as pessoas fazem realmente questão de ir votar em filmes que elas acharam de qualidade excelente."
      ]
    },
    {
      "cell_type": "markdown",
      "metadata": {
        "id": "9tCrOtY1lXJ-",
        "colab_type": "text"
      },
      "source": [
        "Calculando mediana e moda dos filmes"
      ]
    },
    {
      "cell_type": "code",
      "metadata": {
        "id": "eVaPncPPlcm_",
        "colab_type": "code",
        "colab": {}
      },
      "source": [
        "notas_mediana = avaliacoes.groupby(\"filmeID\")[\"nota\"].median()\n",
        "notas_moda = avaliacoes.groupby(\"filmeID\")[\"nota\"].agg(pd.Series.mode)\n",
        "\n",
        "filmes_e_dados = filmes_com_media.join(notas_mediana, on = \"filmeID\").sort_index()\n",
        "filmes_e_dados.rename(columns = {\"nota\":\"mediana\"}, inplace = True)\n",
        "\n",
        "filmes_e_dados = filmes_e_dados.join(notas_moda, on = \"filmeID\")\n",
        "filmes_e_dados.rename(columns = {\"nota\":\"moda\"}, inplace = True)"
      ],
      "execution_count": 0,
      "outputs": []
    },
    {
      "cell_type": "markdown",
      "metadata": {
        "id": "iWaEbzcC49u4",
        "colab_type": "text"
      },
      "source": [
        "Função que vai plotar o boxplot e o histograma de um filme lado a lado:"
      ]
    },
    {
      "cell_type": "code",
      "metadata": {
        "id": "jy7x-dRm5Dti",
        "colab_type": "code",
        "colab": {}
      },
      "source": [
        "def plot_lado_a_lado(filme_id):\n",
        "  filme_plot = avaliacoes.query(\"filmeID == @filme_id\")['nota']\n",
        "  f, axes = plt.subplots(1, 2, figsize=(16, 6))\n",
        "  filme_plot.plot(kind='hist', ax=axes[0])\n",
        "  filme_plot.plot(kind='box', ax=axes[1])\n",
        "  plt.show()\n"
      ],
      "execution_count": 0,
      "outputs": []
    },
    {
      "cell_type": "code",
      "metadata": {
        "id": "Zejdsx2M5pl3",
        "colab_type": "code",
        "colab": {
          "base_uri": "https://localhost:8080/",
          "height": 374
        },
        "outputId": "035a0515-2896-40d2-fa04-bb060f3d60ef"
      },
      "source": [
        "plot_lado_a_lado(1)"
      ],
      "execution_count": 23,
      "outputs": [
        {
          "output_type": "display_data",
          "data": {
            "image/png": "[encoded data removed]",
            "text/plain": [
              "<Figure size 1152x432 with 2 Axes>"
            ]
          },
          "metadata": {
            "tags": []
          }
        }
      ]
    },
    {
      "cell_type": "markdown",
      "metadata": {
        "id": "XEAqUvwk53jO",
        "colab_type": "text"
      },
      "source": [
        "Criar um gráfico com as notas médias por ano."
      ]
    },
    {
      "cell_type": "code",
      "metadata": {
        "id": "9eq_vKcU5-0t",
        "colab_type": "code",
        "colab": {
          "base_uri": "https://localhost:8080/",
          "height": 352
        },
        "outputId": "fca30bb2-c5e2-403f-e470-3b2ab748cf79"
      },
      "source": [
        "anos_filmes = filmes_com_media['titulo'].str.extract(\"\\((\\d{4})\\)\")\n",
        "filmes_com_media['ano_do_filme'] = anos_filmes\n",
        "\n",
        "nota_media_por_ano = filmes_com_media.groupby('ano_do_filme')['nota_media'].mean()\n",
        "plt.figure(figsize=(20, 5))\n",
        "nota_media_por_ano.plot()"
      ],
      "execution_count": 32,
      "outputs": [
        {
          "output_type": "execute_result",
          "data": {
            "text/plain": [
              "<matplotlib.axes._subplots.AxesSubplot at 0x7fdf87b13908>"
            ]
          },
          "metadata": {
            "tags": []
          },
          "execution_count": 32
        },
        {
          "output_type": "display_data",
          "data": {
            "image/png": "[encoded data removed]",
            "text/plain": [
              "<Figure size 1440x360 with 1 Axes>"
            ]
          },
          "metadata": {
            "tags": []
          }
        }
      ]
    }
  ]
}